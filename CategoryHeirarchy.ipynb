{
 "cells": [
  {
   "cell_type": "code",
   "execution_count": 1,
   "metadata": {},
   "outputs": [],
   "source": [
    "import requests\n",
    "from bs4 import BeautifulSoup\n",
    "import json\n",
    "import re\n",
    "import urllib\n",
    "import csv"
   ]
  },
  {
   "cell_type": "code",
   "execution_count": 26,
   "metadata": {},
   "outputs": [],
   "source": [
    "json_data=[]\n",
    "category = {}\n",
    "categoryCount = {}\n",
    "category = {}\n",
    "\n",
    "with open('CategoryCountTile.csv') as csv_file:\n",
    "    csv_reader = csv.reader(csv_file, delimiter=',')\n",
    "    line_count = 0\n",
    "    for row in csv_reader:\n",
    "#         line_count += 1\n",
    "#         if(line_count>5):\n",
    "#             break\n",
    "        try:\n",
    "            task = row[0];\n",
    "            url = 'https://paperswithcode.com/task/'+str(row[0]).lower().replace(\" \",\"-\")\n",
    "#             print(url)\n",
    "            response = requests.get(url)\n",
    "            html = response.content\n",
    "            soup = BeautifulSoup(html, \"html.parser\")\n",
    "            categoryDiv = soup.find('div',attrs={'class': 'general-breadcrumb'})\n",
    "            heirarchyCategories = []\n",
    "            for span in categoryDiv.findAll('a'):\n",
    "                if(span.text!='Browse'):\n",
    "                    heirarchyCategories.append(span.text)\n",
    "                    \n",
    "            heirarchyCategories.append(row[0])\n",
    "            \n",
    "            for cat in heirarchyCategories:\n",
    "                if cat not in categoryCount:\n",
    "                    categoryCount[cat] = int(row[1])\n",
    "                    category[cat] = \n",
    "                else:\n",
    "                    categoryCount[cat] += int(row[1])\n",
    "        except:\n",
    "            continue\n",
    "            \n",
    "categoryCountArray = []\n",
    "for key in categoryCount:\n",
    "    categoryCountArray.append([key.encode('ascii', 'ignore').decode('ascii'), categoryCount[key]])\n"
   ]
  },
  {
   "cell_type": "code",
   "execution_count": 27,
   "metadata": {},
   "outputs": [],
   "source": [
    "with open('/Users/shreyasawkar/PycharmProjects/CSCI-548-Project/venv/Task1-DataExtraction/HeirarchialCategoryCount.csv', 'w') as csvFile:\n",
    "    writer = csv.writer(csvFile)\n",
    "    writer.writerows(categoryCountArray)\n",
    "    \n",
    "    "
   ]
  },
  {
   "cell_type": "code",
   "execution_count": null,
   "metadata": {},
   "outputs": [],
   "source": []
  }
 ],
 "metadata": {
  "kernelspec": {
   "display_name": "paperClassifier",
   "language": "python",
   "name": "paperclassifier"
  },
  "language_info": {
   "codemirror_mode": {
    "name": "ipython",
    "version": 3
   },
   "file_extension": ".py",
   "mimetype": "text/x-python",
   "name": "python",
   "nbconvert_exporter": "python",
   "pygments_lexer": "ipython3",
   "version": "3.7.3"
  }
 },
 "nbformat": 4,
 "nbformat_minor": 2
}
